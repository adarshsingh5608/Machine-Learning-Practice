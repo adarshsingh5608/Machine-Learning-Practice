{
 "cells": [
  {
   "cell_type": "code",
   "execution_count": 9,
   "id": "e539933a-d1e1-4018-ac2f-7b690835f184",
   "metadata": {},
   "outputs": [
    {
     "name": "stdin",
     "output_type": "stream",
     "text": [
      "Enter the weight 300\n",
      "Enter the size 8\n"
     ]
    },
    {
     "name": "stdout",
     "output_type": "stream",
     "text": [
      "Orange\n"
     ]
    }
   ],
   "source": [
    "from sklearn.neighbors import KNeighborsClassifier \n",
    "\n",
    "X= [\n",
    "    [180,7],\n",
    "    [200,7.5],\n",
    "    [250,8],\n",
    "    [300,8.5],\n",
    "    [330,9],\n",
    "    [380,9.5]\n",
    "]\n",
    "y =[0,0,0,1,1,1]\n",
    "\n",
    "model = KNeighborsClassifier(n_neighbors = 3)\n",
    "model.fit(X,y)\n",
    "\n",
    "weight = float(input(\"Enter the weight\"))\n",
    "size = float(input(\"Enter the size\"))\n",
    "\n",
    "prediction = model.predict([[weight , size]])[0]\n",
    "if prediction== 0:\n",
    "    print(\"Apple\")\n",
    "else:\n",
    "    print(\"Orange\")"
   ]
  },
  {
   "cell_type": "code",
   "execution_count": null,
   "id": "de955ee9-cf8c-4eab-b15c-a79d364f57c2",
   "metadata": {},
   "outputs": [],
   "source": []
  }
 ],
 "metadata": {
  "kernelspec": {
   "display_name": "Python 3 (ipykernel)",
   "language": "python",
   "name": "python3"
  },
  "language_info": {
   "codemirror_mode": {
    "name": "ipython",
    "version": 3
   },
   "file_extension": ".py",
   "mimetype": "text/x-python",
   "name": "python",
   "nbconvert_exporter": "python",
   "pygments_lexer": "ipython3",
   "version": "3.13.5"
  }
 },
 "nbformat": 4,
 "nbformat_minor": 5
}
