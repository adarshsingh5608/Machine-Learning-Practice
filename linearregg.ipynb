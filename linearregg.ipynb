{
 "cells": [
  {
   "cell_type": "code",
   "execution_count": 1,
   "id": "d7e24e00-10b2-43f3-8971-82f155d06d5f",
   "metadata": {},
   "outputs": [
    {
     "name": "stdin",
     "output_type": "stream",
     "text": [
      "Enter the hours you study 10\n"
     ]
    },
    {
     "name": "stdout",
     "output_type": "stream",
     "text": [
      " Based on your hours10.0 you may score around [151.5]\n"
     ]
    }
   ],
   "source": [
    "from sklearn.linear_model import LinearRegression\n",
    "\n",
    "X = [[1],[2],[3],[4],[5]]\n",
    "y = [40,50,65,75,90]\n",
    "model = LinearRegression()\n",
    "model.fit(X,y)\n",
    "hours = float(input(\"Enter the hours you study\"))\n",
    "predicted_marks = model.predict([[hours]])\n",
    "print(f\" Based on your hours{hours} you may score around {predicted_marks}\")"
   ]
  },
  {
   "cell_type": "code",
   "execution_count": null,
   "id": "5707ab94-4d6f-4865-97de-2b66fca8b001",
   "metadata": {},
   "outputs": [],
   "source": []
  }
 ],
 "metadata": {
  "kernelspec": {
   "display_name": "Python 3 (ipykernel)",
   "language": "python",
   "name": "python3"
  },
  "language_info": {
   "codemirror_mode": {
    "name": "ipython",
    "version": 3
   },
   "file_extension": ".py",
   "mimetype": "text/x-python",
   "name": "python",
   "nbconvert_exporter": "python",
   "pygments_lexer": "ipython3",
   "version": "3.13.5"
  }
 },
 "nbformat": 4,
 "nbformat_minor": 5
}
